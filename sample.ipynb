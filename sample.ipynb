{
 "cells": [
  {
   "metadata": {},
   "cell_type": "markdown",
   "source": [
    "# This is a sample Jupyter Notebook\n",
    "\n",
    "Below is an example of a code cell. \n",
    "Put your cursor into the cell and press Shift+Enter to execute it and select the next one, or click 'Run Cell' button.\n",
    "\n",
    "Press Double Shift to search everywhere for classes, files, tool windows, actions, and settings.\n",
    "\n",
    "To learn more about Jupyter Notebooks in PyCharm, see [help](https://www.jetbrains.com/help/pycharm/ipython-notebook-support.html).\n",
    "For an overview of PyCharm, go to Help -> Learn IDE features or refer to [our documentation](https://www.jetbrains.com/help/pycharm/getting-started.html)."
   ],
   "id": "8a77807f92f26ee"
  },
  {
   "metadata": {},
   "cell_type": "code",
   "outputs": [],
   "execution_count": null,
   "source": [
    "import numpy as np\n",
    "import pandas as pd"
   ],
   "id": "2e461e89770ea352"
  },
  {
   "metadata": {
    "ExecuteTime": {
     "end_time": "2024-11-06T12:44:58.826220Z",
     "start_time": "2024-11-06T12:44:58.821506Z"
    }
   },
   "cell_type": "code",
   "source": [
    "from numpy.ma.core import arange\n",
    "\n",
    "reference_sequence = 'KVFGRCELAAAMKRHGLDNYRGYSLGNWVCAAKFESNFNTQATNRNTDGSTDYGILQINSRWWCNDGRTPGSRNLCNIPCSALLSSDITASVNCAKKIVSDGNGMNAWVAWRNRCKGTDVQAWIRGCRL'\n",
    "print(len(reference_sequence))\n",
    "\n",
    "alignments = open('data/seqdump.txt')\n",
    "\n",
    "\n",
    "\n",
    "lines = alignments.readlines()\n",
    "n_lines = len(lines)\n",
    "\n",
    "\n",
    "sequences = []\n",
    "\n",
    "for idx, line in enumerate(lines):\n",
    "    if line.startswith('>'):  \n",
    "        current_sequence = \"\"\n",
    "        i = 1\n",
    "        while (idx + i) < n_lines and not lines[idx + i].startswith('>'):  # continua fino alla prossima '>'\n",
    "            current_sequence += lines[idx + i].strip()  # rimuove newline\n",
    "            i += 1\n",
    "        sequences.append(current_sequence)\n",
    "\n"
   ],
   "id": "fbc121e30a2defb3",
   "outputs": [
    {
     "name": "stdout",
     "output_type": "stream",
     "text": [
      "129\n"
     ]
    }
   ],
   "execution_count": 76
  },
  {
   "metadata": {
    "ExecuteTime": {
     "end_time": "2024-11-06T13:04:33.230223Z",
     "start_time": "2024-11-06T13:04:33.204373Z"
    }
   },
   "cell_type": "code",
   "source": [
    "\n",
    "# here in the sequences vector we have all the aligned sequences. We now need to count and report the less stable positions, from an evolutionary point of view.\n",
    "\n",
    "# We first check  if all sequences have the same length\n",
    "\n",
    "lengths = []\n",
    "\n",
    "for sequence in sequences:\n",
    "    lengths.append(len(sequence))\n",
    "# print(lengths)\n",
    "# we observe that 100 is the length of all sequence---> strange, not correct!!! In the presentation we have \n",
    "most_common = []\n",
    "frequencies = []\n",
    "for position in range(129):\n",
    "    amminoacids = []\n",
    "    for sequence in sequences:\n",
    "        # we need to count the number of the same amminoacid\n",
    "        if position<len(sequence):\n",
    "            amminoacids.append(sequence[position])\n",
    "        else: \n",
    "            amminoacids.append(str('no amminoacid here'))\n",
    "\n",
    "    unique, counts = np.unique(amminoacids, return_counts=True)\n",
    "    frequencies.append(np.max(counts)/100)\n",
    "    most_common_idx = np.argmax(counts)\n",
    "    most_common.append(unique[most_common_idx])\n",
    "\n",
    "positions = range(129)\n",
    "\n",
    "    "
   ],
   "id": "d1502d61fbede4ba",
   "outputs": [],
   "execution_count": 106
  },
  {
   "metadata": {},
   "cell_type": "code",
   "outputs": [],
   "execution_count": null,
   "source": [
    "# my idea here is to add to this dataframe also the result we got from other methods like \n",
    "# RMSF analysis, \n",
    "\n",
    "df = pd.DataFrame({\n",
    "    'positions': positions,\n",
    "    'most_common_amminoacid': most_common,\n",
    "    'frequency': frequencies   \n",
    "})\n",
    "\n"
   ],
   "id": "95685e94e6c8aa06"
  }
 ],
 "metadata": {
  "kernelspec": {
   "display_name": "Python 3",
   "language": "python",
   "name": "python3"
  },
  "language_info": {
   "codemirror_mode": {
    "name": "ipython",
    "version": 2
   },
   "file_extension": ".py",
   "mimetype": "text/x-python",
   "name": "python",
   "nbconvert_exporter": "python",
   "pygments_lexer": "ipython2",
   "version": "2.7.6"
  }
 },
 "nbformat": 4,
 "nbformat_minor": 5
}
